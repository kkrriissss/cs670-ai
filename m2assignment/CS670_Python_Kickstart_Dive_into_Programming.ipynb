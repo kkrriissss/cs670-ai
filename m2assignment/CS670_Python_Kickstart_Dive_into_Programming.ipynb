{
  "nbformat": 4,
  "nbformat_minor": 0,
  "metadata": {
    "colab": {
      "provenance": []
    },
    "kernelspec": {
      "name": "python3",
      "display_name": "Python 3"
    },
    "language_info": {
      "name": "python"
    }
  },
  "cells": [
    {
      "cell_type": "markdown",
      "source": [
        "This review assignment will graded as either complete or incomplete. It is madatory for all students to complete this assignment.\n",
        "\n",
        "General instructions for this and future notebooks (if any):\n",
        "\n",
        "To run a cell and move to the next cell: Hold down Shift and press Enter.\n",
        "To run a cell and stay in the same cell: Hold down Ctrl and press Enter.\n",
        "Use the arrow up and down to navigate or do it manually as you prefer.\n",
        "Escape from typing a cell: Hit Esc.\n",
        "Note:\n",
        "\n",
        "You must run/evaluate all cells. Order of cell execution is important.\n",
        "\n",
        "You must work directly out of a copy of the assignment notebook given to you, in the exact order."
      ],
      "metadata": {
        "id": "qdkPodq5Rryy"
      }
    },
    {
      "cell_type": "markdown",
      "source": [
        "# **Question 1: Fibonacci Sequence**\n",
        "\n",
        "Write a function to generate the first n elements of the Fibonacci sequence."
      ],
      "metadata": {
        "id": "MRrkLHIlSsmD"
      }
    },
    {
      "cell_type": "code",
      "source": [
        "def fibonacci_sequence(n):\n",
        "    fib_sequence = [0, 1]\n",
        "\n",
        "    while len(fib_sequence) < n:\n",
        "        next_num = fib_sequence[-1] + fib_sequence[-2]\n",
        "        fib_sequence.append(next_num)\n",
        "\n",
        "    return fib_sequence[:n]\n",
        "\n",
        "n_terms = 8\n",
        "\n",
        "# Write your code here: Call the function, print the result and run the code\n",
        "\n",
        "print(result_sequence)\n",
        "\n",
        "\n"
      ],
      "metadata": {
        "id": "uuqKK1znUJoE"
      },
      "execution_count": null,
      "outputs": []
    },
    {
      "cell_type": "markdown",
      "source": [
        "# **Question 2: DataFrame Operations with Missing Values**\n",
        "\n",
        "Create a Pandas DataFrame from a dictionary with missing values, and perform the following operations:\n",
        "\n",
        "- Fill missing values with the mean of the respective columns.\n",
        "\n",
        "- Display the DataFrame.\n"
      ],
      "metadata": {
        "id": "1IFW6JtVUlVN"
      }
    },
    {
      "cell_type": "code",
      "source": [
        "import pandas as pd\n",
        "import numpy as np\n",
        "\n",
        "# Write your code here:Create DataFrame with missing values\n",
        "\n",
        "# Write your code here:Fill missing values with mean\n",
        "\n",
        "# Write your code here:Display DataFrame\n",
        "\n"
      ],
      "metadata": {
        "id": "wJtgz0TLUsfi"
      },
      "execution_count": null,
      "outputs": []
    },
    {
      "cell_type": "markdown",
      "source": [
        "# **Question 3: Advanced Matrix Operations**\n",
        "\n",
        "Perform advanced matrix operations using NumPy. Given two matrices A and B, calculate the determinant of the product of the transposes."
      ],
      "metadata": {
        "id": "OysQWrXcVKO0"
      }
    },
    {
      "cell_type": "code",
      "source": [
        "import numpy as np\n",
        "\n",
        "A = np.array([[1, 2], [3, 4]])\n",
        "B = np.array([[5, 6], [7, 8]])\n",
        "\n",
        "# Write the code below to calculate the determinant below this comment and run the code\n",
        "\n",
        "print(result)\n",
        "\n",
        "\n"
      ],
      "metadata": {
        "id": "HM0YL4vIVRaa"
      },
      "execution_count": null,
      "outputs": []
    },
    {
      "cell_type": "markdown",
      "source": [
        "# **Question 4: Filtering DataFrames with Multiple Conditions**\n",
        "\n",
        "Given a Pandas DataFrame with multiple columns, filter rows where values in two specific columns meet certain conditions simultaneously.\n",
        "\n",
        "**Conditions - Age should be more than 25 and Salary should be atleast 50000**"
      ],
      "metadata": {
        "id": "Iz8MtDoHVcaJ"
      }
    },
    {
      "cell_type": "code",
      "source": [
        "import pandas as pd\n",
        "\n",
        "data = {'Name': ['Alice', 'Bob', 'Charlie'],\n",
        "        'Age': [25, 30, 22],\n",
        "        'Salary': [50000, 70000, 45000]}\n",
        "df = pd.DataFrame(data)\n",
        "\n",
        "# Write the code below to filter rows with multiple conditions below\n",
        "\n",
        "print(filtered_df)\n",
        "\n"
      ],
      "metadata": {
        "id": "xDYog3a8VkB3"
      },
      "execution_count": null,
      "outputs": []
    },
    {
      "cell_type": "markdown",
      "source": [
        "# **Question 5: Advanced NumPy Array Operations**\n",
        "\n",
        "Create two NumPy arrays and perform advanced array operations: element-wise multiplication, matrix multiplication, and finding the element-wise maximum."
      ],
      "metadata": {
        "id": "TUs0_873WAWX"
      }
    },
    {
      "cell_type": "code",
      "source": [
        "import numpy as np\n",
        "\n",
        "arr1 = np.array([[1, 2], [3, 4]])\n",
        "arr2 = np.array([[5, 6], [7, 8]])\n",
        "\n",
        "# Write the code for element-wise multiplication below\n",
        "\n",
        "# Write the code for Matrix multiplication below\n",
        "\n",
        "# Write the code for Element-wise maximum below\n",
        "\n",
        "print(elementwise_mult)\n",
        "print(matrix_mult)\n",
        "print(elementwise_max)\n",
        "\n",
        "# Note to grader\n"
      ],
      "metadata": {
        "id": "HZks2us_WG28"
      },
      "execution_count": null,
      "outputs": []
    },
    {
      "cell_type": "markdown",
      "source": [
        "# **Question 6: Data Analysis with Pandas**\n",
        "\n",
        "Load the Titanic dataset using Pandas, and perform basic data analysis:\n",
        "\n",
        "Display the first few rows.\n",
        "Show summary statistics.\n",
        "Count the occurrences of each unique value in a specific column.\n"
      ],
      "metadata": {
        "id": "LhWhmCdcWhXk"
      }
    },
    {
      "cell_type": "code",
      "source": [
        "import pandas as pd\n",
        "\n",
        "# Load Titanic dataset\n",
        "titanic_df = pd.read_csv('https://web.stanford.edu/class/archive/cs/cs109/cs109.1166/stuff/titanic.csv')\n",
        "\n",
        "# Display first few rows - your code goes inside of print()\n",
        "print()\n",
        "\n",
        "# Summary statistics - your code goes inside of print()\n",
        "print()\n",
        "\n",
        "# Code to Count occurrences of unique values in 'Pclass' column is as below:\n",
        "class_counts = titanic_df['Pclass'].value_counts()\n",
        "\n",
        "print(class_counts)\n",
        "\n",
        "\n"
      ],
      "metadata": {
        "id": "vt_BkjGhWqdx"
      },
      "execution_count": null,
      "outputs": []
    },
    {
      "cell_type": "markdown",
      "source": [
        "# **Question 7: Remove duplicates in a list**\n",
        "\n",
        "Write a function that takes a list as input and returns a new list with duplicate elements removed."
      ],
      "metadata": {
        "id": "aG9Pq2XaMN_b"
      }
    },
    {
      "cell_type": "code",
      "source": [
        "def remove_duplicates(lst):\n",
        "    # Complete the function\n",
        "\n",
        "original_list = [1, 2, 2, 3, 4, 4, 5]\n",
        "result = remove_duplicates(original_list)\n",
        "print(result)\n",
        "\n"
      ],
      "metadata": {
        "id": "vc5jcm3RSxQm"
      },
      "execution_count": null,
      "outputs": []
    },
    {
      "cell_type": "markdown",
      "source": [
        "# **Question 8: Count Words in a Sentence**\n",
        "\n",
        "Write a function that takes a sentence as input and returns a dictionary with each word and its frequency.\n"
      ],
      "metadata": {
        "id": "CHwXg_cNS0ve"
      }
    },
    {
      "cell_type": "code",
      "source": [
        "def count_words(sentence):\n",
        "    word_count = {}\n",
        "    words = sentence.split()\n",
        "\n",
        "    for word in words:\n",
        "\n",
        "    # Write the missing code in the 'for' loop above\n",
        "\n",
        "    return word_count\n",
        "\n",
        "# Example Usage\n",
        "input_sentence = \"The quick brown fox jumps over the lazy dog.\"\n",
        "result = count_words(input_sentence)\n",
        "print(result)\n",
        "\n"
      ],
      "metadata": {
        "id": "WYzaod_oS3IO"
      },
      "execution_count": null,
      "outputs": []
    },
    {
      "cell_type": "markdown",
      "source": [
        "# **Question 9: Anagrams Check**\n",
        "\n",
        "Write a function to check if two strings are anagrams.\n"
      ],
      "metadata": {
        "id": "L6NZc8uJS9gw"
      }
    },
    {
      "cell_type": "code",
      "source": [
        "def are_anagrams(str1, str2):\n",
        "    # Complete the function (HINT: there is one line solution using a built-in function)\n",
        "\n",
        "word1 = \"listen\"\n",
        "word2 = \"silent\"\n",
        "print(are_anagrams(word1, word2))\n",
        "\n",
        "\n"
      ],
      "metadata": {
        "id": "vpvV7JP7TAz9"
      },
      "execution_count": null,
      "outputs": []
    },
    {
      "cell_type": "markdown",
      "source": [
        "# **Question 10: Statistical Operations**\n",
        "\n",
        "Generate a random array of size 100. Calculate the mean, median, and standard deviation using NumPy functions.\n"
      ],
      "metadata": {
        "id": "OXGMkTKdTD4N"
      }
    },
    {
      "cell_type": "code",
      "source": [
        "import numpy as np\n",
        "\n",
        "random_array = np.random.rand(100)\n",
        "mean_value = np.mean(random_array)\n",
        "median_value = np.median(random_array)\n",
        "std_dev = np.std(random_array)\n",
        "\n",
        "# Write the code to Print all 3 values in the below format\n",
        "# Mean - {mean}\n",
        "# Median - {median}\n",
        "# Standard Deviation - {std dev}\n",
        "#Write your code here:\n"
      ],
      "metadata": {
        "id": "2VX5aCKbTHL1"
      },
      "execution_count": null,
      "outputs": []
    },
    {
      "cell_type": "markdown",
      "source": [
        "# **Question 11: Matplotlib - Line Plot**\n",
        "\n",
        "Plot a line graph using Matplotlib that represents the function `y=2x+3` for x values in the range [0, 10].\n"
      ],
      "metadata": {
        "id": "InamgZz7TJOE"
      }
    },
    {
      "cell_type": "code",
      "source": [
        "import matplotlib.pyplot as plt\n",
        "import numpy as np\n",
        "\n",
        "x_values = np.arange(0, 11)\n",
        "\n",
        "# Complete the equation for 'y_values' below\n",
        "\n",
        "plt.plot(x_values, y_values)\n",
        "plt.xlabel('x')\n",
        "plt.ylabel('y')\n",
        "plt.title('Line Plot: y = 2x + 3')\n",
        "plt.show()\n",
        "\n",
        "\n"
      ],
      "metadata": {
        "id": "cvrqdrHOTMzn"
      },
      "execution_count": null,
      "outputs": []
    },
    {
      "cell_type": "markdown",
      "source": [
        "# **Question 12: Data Cleaning with Pandas**\n",
        "\n",
        "Consider the following Pandas DataFrame:\n",
        "\n",
        "```\n",
        "import pandas as pd\n",
        "\n",
        "data = {'Name': ['Alice', 'Bob', 'Charlie', 'David', 'Emma'],\n",
        "        'Age': [25, np.nan, 30, 22, 28],\n",
        "        'Salary': [50000, 60000, np.nan, 45000, 70000]}\n",
        "\n",
        "df = pd.DataFrame(data)\n",
        "```\n",
        "\n",
        "Write a function `clean_data` that takes this DataFrame as input and performs the following tasks:\n",
        "\n",
        "- Fill missing values in the 'Age' column with the mean age.\n",
        "- Fill missing values in the 'Salary' column with the median salary.\n",
        "\n",
        "*Don't forget to include the above mentioned code when you run the below given code in question.*\n"
      ],
      "metadata": {
        "id": "LLpkt62eTP6c"
      }
    },
    {
      "cell_type": "code",
      "source": [
        "import pandas as pd\n",
        "import numpy as np\n",
        "\n",
        "# Write the data and data frame here:\n",
        "\n",
        "\n",
        "def clean_data(df):\n",
        "    mean_age = df['Age'].mean()\n",
        "    df['Age'].fillna(mean_age, inplace=True)\n",
        "\n",
        "    # write the code below to fill the missing values in salary column with the mdeian salary.\n",
        "\n",
        "\n",
        "\n",
        "\n",
        "    return df\n",
        "\n",
        "# Example Usage\n",
        "cleaned_df = clean_data(df)\n",
        "print(\"Original DataFrame:\")\n",
        "print(df)\n",
        "print(\"\\nCleaned DataFrame:\")\n",
        "print(cleaned_df)\n",
        "\n"
      ],
      "metadata": {
        "id": "zkLyxQsATUPf",
        "colab": {
          "base_uri": "https://localhost:8080/"
        },
        "outputId": "c445b373-d75d-459b-8e55-19e980c49d1c"
      },
      "execution_count": null,
      "outputs": [
        {
          "output_type": "stream",
          "name": "stdout",
          "text": [
            "Original DataFrame:\n",
            "      Name    Age   Salary\n",
            "0    Alice  25.00  50000.0\n",
            "1      Bob  26.25  60000.0\n",
            "2  Charlie  30.00  55000.0\n",
            "3    David  22.00  45000.0\n",
            "4     Emma  28.00  70000.0\n",
            "\n",
            "Cleaned DataFrame:\n",
            "      Name    Age   Salary\n",
            "0    Alice  25.00  50000.0\n",
            "1      Bob  26.25  60000.0\n",
            "2  Charlie  30.00  55000.0\n",
            "3    David  22.00  45000.0\n",
            "4     Emma  28.00  70000.0\n"
          ]
        },
        {
          "output_type": "stream",
          "name": "stderr",
          "text": [
            "<ipython-input-2-e2dbd2c0faa1>:13: FutureWarning: A value is trying to be set on a copy of a DataFrame or Series through chained assignment using an inplace method.\n",
            "The behavior will change in pandas 3.0. This inplace method will never work because the intermediate object on which we are setting values always behaves as a copy.\n",
            "\n",
            "For example, when doing 'df[col].method(value, inplace=True)', try using 'df.method({col: value}, inplace=True)' or df[col] = df[col].method(value) instead, to perform the operation inplace on the original object.\n",
            "\n",
            "\n",
            "  df['Age'].fillna(mean_age, inplace=True)\n",
            "<ipython-input-2-e2dbd2c0faa1>:14: FutureWarning: A value is trying to be set on a copy of a DataFrame or Series through chained assignment using an inplace method.\n",
            "The behavior will change in pandas 3.0. This inplace method will never work because the intermediate object on which we are setting values always behaves as a copy.\n",
            "\n",
            "For example, when doing 'df[col].method(value, inplace=True)', try using 'df.method({col: value}, inplace=True)' or df[col] = df[col].method(value) instead, to perform the operation inplace on the original object.\n",
            "\n",
            "\n",
            "  df['Salary'].fillna(median_salary, inplace=True)\n"
          ]
        }
      ]
    },
    {
      "cell_type": "markdown",
      "source": [
        "# **Question 13: Scikit-Learn - Model Training**\n",
        "\n",
        "Use Scikit-Learn to train a simple linear regression model on a given dataset and make predictions.\n"
      ],
      "metadata": {
        "id": "9_sXFIpgTYWU"
      }
    },
    {
      "cell_type": "code",
      "source": [
        "from sklearn.linear_model import LinearRegression\n",
        "import numpy as np\n",
        "\n",
        "# Assume X and y are loaded from a dataset\n",
        "X = np.array([[1], [2], [3]])\n",
        "y = np.array([2, 4, 6])\n",
        "\n",
        "model = LinearRegression()\n",
        "model.fit(X, y)\n",
        "\n",
        "# Make predictions\n",
        "predictions = model.predict([[4]])\n",
        "print(predictions)\n",
        "\n",
        "\n"
      ],
      "metadata": {
        "id": "X_uyuz3NTbcP"
      },
      "execution_count": null,
      "outputs": []
    },
    {
      "cell_type": "markdown",
      "source": [
        "# **Question 14: Requests - API Call**\n",
        "\n",
        "Use the requests library in Python to make a GET request to a public API (e.g., JSONPlaceholder) and extract relevant information.\n"
      ],
      "metadata": {
        "id": "kjYG5F6tTeQ0"
      }
    },
    {
      "cell_type": "code",
      "source": [
        "import requests\n",
        "\n",
        "# Call a URL of your choice in the below API call and display the result in JSON\n",
        "response = requests.get()\n",
        "data = response.json()\n",
        "print(data)\n",
        "\n",
        "\n"
      ],
      "metadata": {
        "id": "a6ihI-DvThSL"
      },
      "execution_count": null,
      "outputs": []
    },
    {
      "cell_type": "markdown",
      "source": [
        "# **Question 15: DateTime Operations**\n",
        "\n",
        "Create a Pandas DataFrame with a DateTime column. Extract the day, month, and year from the DateTime column.\n"
      ],
      "metadata": {
        "id": "VT3dqdkhTlwL"
      }
    },
    {
      "cell_type": "code",
      "source": [
        "import pandas as pd\n",
        "\n",
        "data = {'Date': pd.to_datetime(['2022-01-15', '2022-02-20', '2022-03-25'])}\n",
        "df = pd.DataFrame(data)\n",
        "\n",
        "df['Day'] = df['Date'].dt.day\n",
        "# Complete the same for month and year below\n",
        "\n",
        "print(df)\n",
        "\n",
        "\n"
      ],
      "metadata": {
        "id": "Y1n2MllUToZs"
      },
      "execution_count": null,
      "outputs": []
    },
    {
      "cell_type": "markdown",
      "source": [
        "# **Question 16: Data Reshaping**\n",
        "\n",
        "Create a Pandas DataFrame with a multi-index. Reshape the DataFrame using the stack and unstack operations.\n"
      ],
      "metadata": {
        "id": "_g5qudI0Tqh_"
      }
    },
    {
      "cell_type": "code",
      "source": [
        "import pandas as pd\n",
        "\n",
        "data = {'A': [1, 2, 3], 'B': [4, 5, 6]}\n",
        "index = pd.MultiIndex.from_tuples([('X', 'alpha'), ('Y', 'beta'), ('Z', 'gamma')], names=['Group', 'Subgroup'])\n",
        "\n",
        "df = pd.DataFrame(data, index=index)\n",
        "stacked_df = df.stack()\n",
        "\n",
        "# Write the code for unstaking the 'df' using the stacked_df and not the original df. Print after unstacking.\n",
        "\n",
        "\n"
      ],
      "metadata": {
        "id": "LfLQpB-5Tto5"
      },
      "execution_count": null,
      "outputs": []
    },
    {
      "cell_type": "markdown",
      "source": [
        "# **Question 17: Matplotlib - Scatter Plot**\n",
        "\n",
        "Create a scatter plot using Matplotlib to visualize the relationship between two variables.\n"
      ],
      "metadata": {
        "id": "b76HRo0tTwFX"
      }
    },
    {
      "cell_type": "code",
      "source": [
        "import matplotlib.pyplot as plt\n",
        "import numpy as np\n",
        "\n",
        "x_values = np.random.rand(20)\n",
        "# Write any equation for y_values of your choice using the 'x_values' below\n",
        "\n",
        "plt.scatter(x_values, y_values)\n",
        "plt.xlabel('X Variable')\n",
        "plt.ylabel('Y Variable')\n",
        "plt.title('Scatter Plot')\n",
        "plt.show()\n",
        "\n",
        "\n"
      ],
      "metadata": {
        "colab": {
          "base_uri": "https://localhost:8080/",
          "height": 472
        },
        "id": "EFraNVzlTyfy",
        "outputId": "df327f3b-f00e-4d08-ab7e-ed8439426ca7"
      },
      "execution_count": null,
      "outputs": [
        {
          "output_type": "display_data",
          "data": {
            "text/plain": [
              "<Figure size 640x480 with 1 Axes>"
            ],
            "image/png": "[encoded data removed]"
          },
          "metadata": {}
        }
      ]
    },
    {
      "cell_type": "markdown",
      "source": [
        "# **Question 18: Seaborn - Heatmap**\n",
        "\n",
        "Generate a heatmap using Seaborn to visualize the correlation matrix of a given DataFrame.\n"
      ],
      "metadata": {
        "id": "G6SGGARtT10d"
      }
    },
    {
      "cell_type": "code",
      "source": [
        "import seaborn as sns\n",
        "import pandas as pd\n",
        "\n",
        "# Assume df is a loaded DataFrame with numerical columns\n",
        "correlation_matrix = df.corr()\n",
        "\n",
        "sns.heatmap(correlation_matrix, annot=True, cmap='coolwarm')\n",
        "plt.title('Correlation Heatmap')\n",
        "plt.show()\n",
        "\n",
        "\n"
      ],
      "metadata": {
        "id": "ZkLH84P9T4QB"
      },
      "execution_count": null,
      "outputs": []
    },
    {
      "cell_type": "markdown",
      "source": [
        "# **Question 19: Scikit-Learn - K-Means Clustering**\n",
        "\n",
        "Use Scikit-Learn to perform k-means clustering on a synthetic dataset and visualize the clusters."
      ],
      "metadata": {
        "id": "AaQiza-TT597"
      }
    },
    {
      "cell_type": "code",
      "source": [
        "from sklearn.cluster import KMeans\n",
        "import matplotlib.pyplot as plt\n",
        "import numpy as np\n",
        "\n",
        "# Generate synthetic data\n",
        "np.random.seed(42)\n",
        "X = np.concatenate([np.random.normal(loc=i, scale=1, size=(100, 2)) for i in range(3)])\n",
        "\n",
        "# Perform k-means clustering\n",
        "kmeans = KMeans(n_clusters=3)\n",
        "kmeans.fit(X)\n",
        "\n",
        "# Visualize the clusters\n",
        "plt.scatter(X[:, 0], X[:, 1], c=kmeans.labels_, cmap='viridis')\n",
        "plt.scatter(kmeans.cluster_centers_[:, 0], kmeans.cluster_centers_[:, 1], marker='X', s=200, c='red')\n",
        "plt.title('K-Means Clustering')\n",
        "plt.show()\n",
        "\n",
        "\n"
      ],
      "metadata": {
        "id": "ZzKhix0dT_Lt"
      },
      "execution_count": null,
      "outputs": []
    },
    {
      "cell_type": "markdown",
      "source": [
        "# **Question 20: Array Operation with Conditions**\n",
        "\n",
        "Consider the following NumPy array arr:\n",
        "\n",
        "```\n",
        "arr = np.array([[1, 2, 3, 4],\n",
        "                [5, 6, 7, 8],\n",
        "                [9, 10, 11, 12]])\n",
        "```\n",
        "\n",
        "\n",
        "\n",
        "Write a function `modify_array` that takes this array as input and replaces all odd numbers in the array with their squares and all even numbers with their cubes.\n"
      ],
      "metadata": {
        "id": "8MPIxExYUCJd"
      }
    },
    {
      "cell_type": "code",
      "source": [
        "import numpy as np\n",
        "\n",
        "def modify_array(arr):\n",
        "    modified_arr = np.where(arr % 2 == 1, arr**2, arr**3)\n",
        "    return modified_arr\n",
        "\n",
        "# Example Usage\n",
        "original_array = np.array([[1, 2, 3, 4],\n",
        "                           [5, 6, 7, 8],\n",
        "                           [9, 10, 11, 12]])\n",
        "\n",
        "modified_array = modify_array(original_array)\n",
        "print(\"Original Array:\")\n",
        "print(original_array)\n",
        "print(\"\\nModified Array:\")\n",
        "print(modified_array)\n",
        "\n",
        "\n"
      ],
      "metadata": {
        "id": "5IjCna7QUWz4"
      },
      "execution_count": null,
      "outputs": []
    }
  ]
}