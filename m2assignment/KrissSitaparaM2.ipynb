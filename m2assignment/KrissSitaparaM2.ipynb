{
  "cells": [
    {
      "cell_type": "markdown",
      "metadata": {
        "id": "qdkPodq5Rryy"
      },
      "source": [
        "This review assignment will graded as either complete or incomplete. It is madatory for all students to complete this assignment.\n",
        "\n",
        "General instructions for this and future notebooks (if any):\n",
        "\n",
        "To run a cell and move to the next cell: Hold down Shift and press Enter.\n",
        "To run a cell and stay in the same cell: Hold down Ctrl and press Enter.\n",
        "Use the arrow up and down to navigate or do it manually as you prefer.\n",
        "Escape from typing a cell: Hit Esc.\n",
        "Note:\n",
        "\n",
        "You must run/evaluate all cells. Order of cell execution is important.\n",
        "\n",
        "You must work directly out of a copy of the assignment notebook given to you, in the exact order."
      ]
    },
    {
      "cell_type": "markdown",
      "metadata": {
        "id": "MRrkLHIlSsmD"
      },
      "source": [
        "# **Question 1: Fibonacci Sequence**\n",
        "\n",
        "Write a function to generate the first n elements of the Fibonacci sequence."
      ]
    },
    {
      "cell_type": "code",
      "execution_count": 1,
      "metadata": {
        "id": "uuqKK1znUJoE"
      },
      "outputs": [
        {
          "name": "stdout",
          "output_type": "stream",
          "text": [
            "[0, 1, 1, 2, 3, 5, 8, 13]\n"
          ]
        }
      ],
      "source": [
        "def fibonacci_sequence(n):\n",
        "    fib_sequence = [0, 1]\n",
        "\n",
        "    while len(fib_sequence) < n:\n",
        "        next_num = fib_sequence[-1] + fib_sequence[-2]\n",
        "        fib_sequence.append(next_num)\n",
        "\n",
        "    return fib_sequence[:n]\n",
        "\n",
        "n_terms = 8\n",
        "\n",
        "# Write your code here: Call the function, print the result and run the code\n",
        "result_sequence = fibonacci_sequence(n_terms)\n",
        "print(result_sequence)\n",
        "\n",
        "\n"
      ]
    },
    {
      "cell_type": "markdown",
      "metadata": {
        "id": "1IFW6JtVUlVN"
      },
      "source": [
        "# **Question 2: DataFrame Operations with Missing Values**\n",
        "\n",
        "Create a Pandas DataFrame from a dictionary with missing values, and perform the following operations:\n",
        "\n",
        "- Fill missing values with the mean of the respective columns.\n",
        "\n",
        "- Display the DataFrame.\n"
      ]
    },
    {
      "cell_type": "code",
      "execution_count": 2,
      "metadata": {
        "id": "wJtgz0TLUsfi"
      },
      "outputs": [
        {
          "name": "stdout",
          "output_type": "stream",
          "text": [
            "     A    B    C           D\n",
            "0  1.0  5.0  9.0   99.000000\n",
            "1  1.0  6.0  8.0  999.000000\n",
            "2  1.0  7.0  7.0  293.000000\n",
            "3  1.0  6.0  8.0  463.666667\n"
          ]
        }
      ],
      "source": [
        "import pandas as pd\n",
        "import numpy as np\n",
        "\n",
        "# Write your code here:Create DataFrame with missing valuesz\n",
        "tabledataframe = {\n",
        "    'A': [1, 1, 1, np.nan],\n",
        "    'B': [5, 6, 7, np.nan],\n",
        "    'C': [9, 8, 7, np.nan],\n",
        "    'D': [99, 999, 293, np.nan]\n",
        "}\n",
        "df = pd.DataFrame(tabledataframe)\n",
        "\n",
        "# Write your code here:Fill missing values with mean\n",
        "df.fillna(df.mean(), inplace=True)\n",
        "\n",
        "# Write your code here:Display DataFrame\n",
        "print(df)\n"
      ]
    },
    {
      "cell_type": "markdown",
      "metadata": {
        "id": "OysQWrXcVKO0"
      },
      "source": [
        "# **Question 3: Advanced Matrix Operations**\n",
        "\n",
        "Perform advanced matrix operations using NumPy. Given two matrices A and B, calculate the determinant of the product of the transposes."
      ]
    },
    {
      "cell_type": "code",
      "execution_count": 3,
      "metadata": {
        "id": "HM0YL4vIVRaa"
      },
      "outputs": [
        {
          "name": "stdout",
          "output_type": "stream",
          "text": [
            "[[1 3]\n",
            " [2 4]] \n",
            "\n",
            "[[5 7]\n",
            " [6 8]] \n",
            "\n",
            "[[23 31]\n",
            " [34 46]] \n",
            "\n",
            "4.0000000000001075 \n",
            "\n"
          ]
        }
      ],
      "source": [
        "import numpy as np\n",
        "\n",
        "A = np.array([[1, 2], [3, 4]])\n",
        "B = np.array([[5, 6], [7, 8]])\n",
        "\n",
        "# Write the code below to calculate the determinant below this comment and run the code\n",
        "atrans = A.T\n",
        "btrans = B.T\n",
        "product = np.dot(atrans, btrans)\n",
        "determinant = np.linalg.det(product)\n",
        "\n",
        "print(atrans, \"\\n\")\n",
        "print(btrans, \"\\n\")\n",
        "print(product, \"\\n\")\n",
        "print(determinant, \"\\n\")\n",
        "\n",
        "\n"
      ]
    },
    {
      "cell_type": "markdown",
      "metadata": {
        "id": "Iz8MtDoHVcaJ"
      },
      "source": [
        "# **Question 4: Filtering DataFrames with Multiple Conditions**\n",
        "\n",
        "Given a Pandas DataFrame with multiple columns, filter rows where values in two specific columns meet certain conditions simultaneously.\n",
        "\n",
        "**Conditions - Age should be more than 25 and Salary should be atleast 50000**"
      ]
    },
    {
      "cell_type": "code",
      "execution_count": 4,
      "metadata": {
        "id": "xDYog3a8VkB3"
      },
      "outputs": [
        {
          "name": "stdout",
          "output_type": "stream",
          "text": [
            "  Name  Age  Salary\n",
            "1  Bob   30   70000\n"
          ]
        }
      ],
      "source": [
        "import pandas as pd\n",
        "\n",
        "data = {'Name': ['Alice', 'Bob', 'Charlie'],\n",
        "        'Age': [25, 30, 22],\n",
        "        'Salary': [50000, 70000, 45000]}\n",
        "df = pd.DataFrame(data)\n",
        "\n",
        "# Write the code below to filter rows with multiple conditions below\n",
        "filtered_df = df[(df['Age'] > 25) & (df['Salary'] >= 50000)]\n",
        "print(filtered_df)\n",
        "\n"
      ]
    },
    {
      "cell_type": "markdown",
      "metadata": {
        "id": "TUs0_873WAWX"
      },
      "source": [
        "# **Question 5: Advanced NumPy Array Operations**\n",
        "\n",
        "Create two NumPy arrays and perform advanced array operations: element-wise multiplication, matrix multiplication, and finding the element-wise maximum."
      ]
    },
    {
      "cell_type": "code",
      "execution_count": 5,
      "metadata": {
        "id": "HZks2us_WG28"
      },
      "outputs": [
        {
          "name": "stdout",
          "output_type": "stream",
          "text": [
            "[[ 5 12]\n",
            " [21 32]] \n",
            "\n",
            "[[19 22]\n",
            " [43 50]] \n",
            "\n",
            "[[5 6]\n",
            " [7 8]] \n",
            "\n"
          ]
        }
      ],
      "source": [
        "import numpy as np\n",
        "\n",
        "arr1 = np.array([[1, 2], [3, 4]])\n",
        "arr2 = np.array([[5, 6], [7, 8]])\n",
        "\n",
        "# Write the code for element-wise multiplication below\n",
        "elementwise_mult = arr1 * arr2\n",
        "# Write the code for Matrix multiplication below\n",
        "matrix_mult = np.dot(arr1, arr2)\n",
        "# Write the code for Element-wise maximum below\n",
        "elementwise_max = np.maximum(arr1, arr2)\n",
        "\n",
        "print(elementwise_mult, \"\\n\")\n",
        "print(matrix_mult, \"\\n\")\n",
        "print(elementwise_max, \"\\n\")\n",
        "\n",
        "# Note to grader\n"
      ]
    },
    {
      "cell_type": "markdown",
      "metadata": {
        "id": "LhWhmCdcWhXk"
      },
      "source": [
        "# **Question 6: Data Analysis with Pandas**\n",
        "\n",
        "Load the Titanic dataset using Pandas, and perform basic data analysis:\n",
        "\n",
        "Display the first few rows.\n",
        "Show summary statistics.\n",
        "Count the occurrences of each unique value in a specific column.\n"
      ]
    },
    {
      "cell_type": "code",
      "execution_count": 6,
      "metadata": {
        "id": "vt_BkjGhWqdx"
      },
      "outputs": [
        {
          "name": "stdout",
          "output_type": "stream",
          "text": [
            "3 rows: \n",
            "    Survived  Pclass                                               Name  \\\n",
            "0         0       3                             Mr. Owen Harris Braund   \n",
            "1         1       1  Mrs. John Bradley (Florence Briggs Thayer) Cum...   \n",
            "2         1       3                              Miss. Laina Heikkinen   \n",
            "\n",
            "      Sex   Age  Siblings/Spouses Aboard  Parents/Children Aboard     Fare  \n",
            "0    male  22.0                        1                        0   7.2500  \n",
            "1  female  38.0                        1                        0  71.2833  \n",
            "2  female  26.0                        0                        0   7.9250   \n",
            "\n",
            "Summary: \n",
            "          Survived      Pclass         Age  Siblings/Spouses Aboard  \\\n",
            "count  887.000000  887.000000  887.000000               887.000000   \n",
            "mean     0.385569    2.305524   29.471443                 0.525366   \n",
            "std      0.487004    0.836662   14.121908                 1.104669   \n",
            "min      0.000000    1.000000    0.420000                 0.000000   \n",
            "25%      0.000000    2.000000   20.250000                 0.000000   \n",
            "50%      0.000000    3.000000   28.000000                 0.000000   \n",
            "75%      1.000000    3.000000   38.000000                 1.000000   \n",
            "max      1.000000    3.000000   80.000000                 8.000000   \n",
            "\n",
            "       Parents/Children Aboard       Fare  \n",
            "count               887.000000  887.00000  \n",
            "mean                  0.383315   32.30542  \n",
            "std                   0.807466   49.78204  \n",
            "min                   0.000000    0.00000  \n",
            "25%                   0.000000    7.92500  \n",
            "50%                   0.000000   14.45420  \n",
            "75%                   0.000000   31.13750  \n",
            "max                   6.000000  512.32920   \n",
            "\n",
            "Pclass\n",
            "3    487\n",
            "1    216\n",
            "2    184\n",
            "Name: count, dtype: int64\n"
          ]
        }
      ],
      "source": [
        "import pandas as pd\n",
        "\n",
        "# Load Titanic dataset\n",
        "titanic_df = pd.read_csv('https://web.stanford.edu/class/archive/cs/cs109/cs109.1166/stuff/titanic.csv')\n",
        "\n",
        "# Display first few rows - your code goes inside of print()\n",
        "print(\"3 rows: \\n\", titanic_df.head(3), \"\\n\")\n",
        "\n",
        "# Summary statistics - your code goes inside of print()\n",
        "print(\"Summary: \\n\", titanic_df.describe(), \"\\n\")\n",
        "\n",
        "# Code to Count occurrences of unique values in 'Pclass' column is as below:\n",
        "class_counts = titanic_df['Pclass'].value_counts()\n",
        "\n",
        "print(class_counts)\n",
        "\n",
        "\n"
      ]
    },
    {
      "cell_type": "markdown",
      "metadata": {
        "id": "aG9Pq2XaMN_b"
      },
      "source": [
        "# **Question 7: Remove duplicates in a list**\n",
        "\n",
        "Write a function that takes a list as input and returns a new list with duplicate elements removed."
      ]
    },
    {
      "cell_type": "code",
      "execution_count": 7,
      "metadata": {
        "id": "vc5jcm3RSxQm"
      },
      "outputs": [
        {
          "name": "stdout",
          "output_type": "stream",
          "text": [
            "[1, 2, 3, 4, 5]\n"
          ]
        }
      ],
      "source": [
        "def remove_duplicates(lst):\n",
        "    # Complete the function\n",
        "    new = []\n",
        "    for item in lst:\n",
        "        if item not in new:\n",
        "            new.append(item)\n",
        "    return new\n",
        "\n",
        "original_list = [1, 2, 2, 3, 4, 4, 5]\n",
        "result = remove_duplicates(original_list)\n",
        "print(result)\n",
        "\n"
      ]
    },
    {
      "cell_type": "markdown",
      "metadata": {
        "id": "CHwXg_cNS0ve"
      },
      "source": [
        "# **Question 8: Count Words in a Sentence**\n",
        "\n",
        "Write a function that takes a sentence as input and returns a dictionary with each word and its frequency.\n"
      ]
    },
    {
      "cell_type": "code",
      "execution_count": 8,
      "metadata": {
        "id": "WYzaod_oS3IO"
      },
      "outputs": [
        {
          "name": "stdout",
          "output_type": "stream",
          "text": [
            "{'The': 1, 'quick': 1, 'brown': 1, 'fox': 1, 'jumps': 1, 'over': 1, 'the': 1, 'lazy': 1, 'dog.': 1}\n"
          ]
        }
      ],
      "source": [
        "def count_words(sentence):\n",
        "    word_count = {}\n",
        "    words = sentence.split()\n",
        "\n",
        "    for word in words:\n",
        "        if word in word_count:\n",
        "            word_count[word] += 1\n",
        "        else:\n",
        "            word_count[word] = 1\n",
        "\n",
        "    # Write the missing code in the 'for' loop above\n",
        "\n",
        "    return word_count\n",
        "\n",
        "# Example Usage\n",
        "input_sentence = \"The quick brown fox jumps over the lazy dog.\"\n",
        "result = count_words(input_sentence)\n",
        "print(result)\n",
        "\n"
      ]
    },
    {
      "cell_type": "markdown",
      "metadata": {
        "id": "L6NZc8uJS9gw"
      },
      "source": [
        "# **Question 9: Anagrams Check**\n",
        "\n",
        "Write a function to check if two strings are anagrams.\n"
      ]
    },
    {
      "cell_type": "code",
      "execution_count": 9,
      "metadata": {
        "id": "vpvV7JP7TAz9"
      },
      "outputs": [
        {
          "name": "stdout",
          "output_type": "stream",
          "text": [
            "['e', 'i', 'l', 'n', 's', 't']\n",
            "['e', 'i', 'l', 'n', 's', 't']\n",
            "True\n"
          ]
        }
      ],
      "source": [
        "def are_anagrams(str1, str2):\n",
        "    sorted1 = sorted(str1)\n",
        "    sorted2 = sorted(str2)\n",
        "    print(sorted1)\n",
        "    print(sorted2)\n",
        "    return sorted1 == sorted2\n",
        "    # Complete the function (HINT: there is one line solution using a built-in function)\n",
        "\n",
        "word1 = \"listen\"\n",
        "word2 = \"silent\"\n",
        "print(are_anagrams(word1, word2))\n",
        "\n",
        "\n"
      ]
    },
    {
      "cell_type": "markdown",
      "metadata": {
        "id": "OXGMkTKdTD4N"
      },
      "source": [
        "# **Question 10: Statistical Operations**\n",
        "\n",
        "Generate a random array of size 100. Calculate the mean, median, and standard deviation using NumPy functions.\n"
      ]
    },
    {
      "cell_type": "code",
      "execution_count": 10,
      "metadata": {
        "id": "2VX5aCKbTHL1"
      },
      "outputs": [
        {
          "name": "stdout",
          "output_type": "stream",
          "text": [
            "Mean - 0.4759720315429739\n",
            "Median - 0.4393217932088151\n",
            "Standard Deviation - 0.28139638243122417\n"
          ]
        }
      ],
      "source": [
        "import numpy as np\n",
        "\n",
        "random_array = np.random.rand(100)\n",
        "mean_value = np.mean(random_array)\n",
        "median_value = np.median(random_array)\n",
        "std_dev = np.std(random_array)\n",
        "\n",
        "# Write the code to Print all 3 values in the below format\n",
        "# Mean - {mean}\n",
        "# Median - {median}\n",
        "# Standard Deviation - {std dev}\n",
        "#Write your code here:\n",
        "print(f\"Mean - {mean_value}\")\n",
        "print(f\"Median - {median_value}\")\n",
        "print(f\"Standard Deviation - {std_dev}\")\n"
      ]
    },
    {
      "cell_type": "markdown",
      "metadata": {
        "id": "InamgZz7TJOE"
      },
      "source": [
        "# **Question 11: Matplotlib - Line Plot**\n",
        "\n",
        "Plot a line graph using Matplotlib that represents the function `y=2x+3` for x values in the range [0, 10].\n"
      ]
    },
    {
      "cell_type": "code",
      "execution_count": 11,
      "metadata": {
        "id": "cvrqdrHOTMzn"
      },
      "outputs": [
        {
          "data": {
            "image/png": "[encoded data removed]",
            "text/plain": [
              "<Figure size 640x480 with 1 Axes>"
            ]
          },
          "metadata": {},
          "output_type": "display_data"
        }
      ],
      "source": [
        "import matplotlib.pyplot as plt\n",
        "import numpy as np\n",
        "\n",
        "x_values = np.arange(0, 11)\n",
        "\n",
        "# Complete the equation for 'y_values' below\n",
        "y_values = 2 * x_values + 3 \n",
        "\n",
        "plt.plot(x_values, y_values)\n",
        "plt.xlabel('x')\n",
        "plt.ylabel('y')\n",
        "plt.title('Line Plot: y = 2x + 3')\n",
        "plt.show()\n",
        "\n",
        "\n"
      ]
    },
    {
      "cell_type": "markdown",
      "metadata": {
        "id": "LLpkt62eTP6c"
      },
      "source": [
        "# **Question 12: Data Cleaning with Pandas**\n",
        "\n",
        "Consider the following Pandas DataFrame:\n",
        "\n",
        "```\n",
        "import pandas as pd\n",
        "\n",
        "data = {'Name': ['Alice', 'Bob', 'Charlie', 'David', 'Emma'],\n",
        "        'Age': [25, np.nan, 30, 22, 28],\n",
        "        'Salary': [50000, 60000, np.nan, 45000, 70000]}\n",
        "\n",
        "df = pd.DataFrame(data)\n",
        "```\n",
        "\n",
        "Write a function `clean_data` that takes this DataFrame as input and performs the following tasks:\n",
        "\n",
        "- Fill missing values in the 'Age' column with the mean age.\n",
        "- Fill missing values in the 'Salary' column with the median salary.\n",
        "\n",
        "*Don't forget to include the above mentioned code when you run the below given code in question.*\n"
      ]
    },
    {
      "cell_type": "code",
      "execution_count": 12,
      "metadata": {
        "colab": {
          "base_uri": "https://localhost:8080/"
        },
        "id": "zkLyxQsATUPf",
        "outputId": "c445b373-d75d-459b-8e55-19e980c49d1c"
      },
      "outputs": [
        {
          "name": "stdout",
          "output_type": "stream",
          "text": [
            "Original DataFrame:\n",
            "      Name    Age   Salary\n",
            "0    Alice  25.00  50000.0\n",
            "1      Bob  26.25  60000.0\n",
            "2  Charlie  30.00  55000.0\n",
            "3    David  22.00  45000.0\n",
            "4     Emma  28.00  70000.0\n",
            "\n",
            "Cleaned DataFrame:\n",
            "      Name    Age   Salary\n",
            "0    Alice  25.00  50000.0\n",
            "1      Bob  26.25  60000.0\n",
            "2  Charlie  30.00  55000.0\n",
            "3    David  22.00  45000.0\n",
            "4     Emma  28.00  70000.0\n"
          ]
        }
      ],
      "source": [
        "import pandas as pd\n",
        "import numpy as np\n",
        "\n",
        "# Write the data and data frame here:\n",
        "data = {\n",
        "    'Name': ['Alice', 'Bob', 'Charlie', 'David', 'Emma'],\n",
        "    'Age': [25, np.nan, 30, 22, 28],\n",
        "    'Salary': [50000, 60000, np.nan, 45000, 70000]\n",
        "}\n",
        "\n",
        "df = pd.DataFrame(data)\n",
        "\n",
        "def clean_data(df):\n",
        "    mean_age = df['Age'].mean()\n",
        "    df['Age'] = df['Age'].fillna(mean_age)\n",
        "\n",
        "    # write the code below to fill the missing values in salary column with the mdeian salary.\n",
        "    median_salary = df['Salary'].median()\n",
        "    df['Salary'] = df['Salary'].fillna(median_salary)\n",
        "\n",
        "    return df\n",
        "\n",
        "# Example Usage\n",
        "cleaned_df = clean_data(df)\n",
        "print(\"Original DataFrame:\")\n",
        "print(df)\n",
        "print(\"\\nCleaned DataFrame:\")\n",
        "print(cleaned_df)\n",
        "\n"
      ]
    },
    {
      "cell_type": "markdown",
      "metadata": {
        "id": "9_sXFIpgTYWU"
      },
      "source": [
        "# **Question 13: Scikit-Learn - Model Training**\n",
        "\n",
        "Use Scikit-Learn to train a simple linear regression model on a given dataset and make predictions.\n"
      ]
    },
    {
      "cell_type": "code",
      "execution_count": 13,
      "metadata": {
        "id": "X_uyuz3NTbcP"
      },
      "outputs": [
        {
          "name": "stdout",
          "output_type": "stream",
          "text": [
            "[8.]\n",
            "[10.]\n"
          ]
        }
      ],
      "source": [
        "from sklearn.linear_model import LinearRegression\n",
        "import numpy as np\n",
        "\n",
        "# Assume X and y are loaded from a dataset\n",
        "X = np.array([[1], [2], [3]])\n",
        "y = np.array([2, 4, 6])\n",
        "\n",
        "model = LinearRegression()\n",
        "model.fit(X, y)\n",
        "\n",
        "# Make predictions\n",
        "predictions = model.predict([[4]])\n",
        "print(predictions)\n",
        "print(model.predict([[5]]))\n",
        "\n",
        "\n"
      ]
    },
    {
      "cell_type": "markdown",
      "metadata": {
        "id": "kjYG5F6tTeQ0"
      },
      "source": [
        "# **Question 14: Requests - API Call**\n",
        "\n",
        "Use the requests library in Python to make a GET request to a public API (e.g., JSONPlaceholder) and extract relevant information.\n"
      ]
    },
    {
      "cell_type": "code",
      "execution_count": 14,
      "metadata": {
        "id": "a6ihI-DvThSL"
      },
      "outputs": [
        {
          "name": "stdout",
          "output_type": "stream",
          "text": [
            "{'current_user_url': 'https://api.github.com/user', 'current_user_authorizations_html_url': 'https://github.com/settings/connections/applications{/client_id}', 'authorizations_url': 'https://api.github.com/authorizations', 'code_search_url': 'https://api.github.com/search/code?q={query}{&page,per_page,sort,order}', 'commit_search_url': 'https://api.github.com/search/commits?q={query}{&page,per_page,sort,order}', 'emails_url': 'https://api.github.com/user/emails', 'emojis_url': 'https://api.github.com/emojis', 'events_url': 'https://api.github.com/events', 'feeds_url': 'https://api.github.com/feeds', 'followers_url': 'https://api.github.com/user/followers', 'following_url': 'https://api.github.com/user/following{/target}', 'gists_url': 'https://api.github.com/gists{/gist_id}', 'hub_url': 'https://api.github.com/hub', 'issue_search_url': 'https://api.github.com/search/issues?q={query}{&page,per_page,sort,order}', 'issues_url': 'https://api.github.com/issues', 'keys_url': 'https://api.github.com/user/keys', 'label_search_url': 'https://api.github.com/search/labels?q={query}&repository_id={repository_id}{&page,per_page}', 'notifications_url': 'https://api.github.com/notifications', 'organization_url': 'https://api.github.com/orgs/{org}', 'organization_repositories_url': 'https://api.github.com/orgs/{org}/repos{?type,page,per_page,sort}', 'organization_teams_url': 'https://api.github.com/orgs/{org}/teams', 'public_gists_url': 'https://api.github.com/gists/public', 'rate_limit_url': 'https://api.github.com/rate_limit', 'repository_url': 'https://api.github.com/repos/{owner}/{repo}', 'repository_search_url': 'https://api.github.com/search/repositories?q={query}{&page,per_page,sort,order}', 'current_user_repositories_url': 'https://api.github.com/user/repos{?type,page,per_page,sort}', 'starred_url': 'https://api.github.com/user/starred{/owner}{/repo}', 'starred_gists_url': 'https://api.github.com/gists/starred', 'topic_search_url': 'https://api.github.com/search/topics?q={query}{&page,per_page}', 'user_url': 'https://api.github.com/users/{user}', 'user_organizations_url': 'https://api.github.com/user/orgs', 'user_repositories_url': 'https://api.github.com/users/{user}/repos{?type,page,per_page,sort}', 'user_search_url': 'https://api.github.com/search/users?q={query}{&page,per_page,sort,order}'}\n",
            "Title: https://api.github.com/user\n"
          ]
        }
      ],
      "source": [
        "import requests\n",
        "\n",
        "# Call a URL of your choice in the below API call and display the result in JSON\n",
        "response = requests.get('https://api.github.com')\n",
        "data = response.json()\n",
        "print(data)\n",
        "\n",
        "print(\"Title:\", data['current_user_url'])\n"
      ]
    },
    {
      "cell_type": "markdown",
      "metadata": {
        "id": "VT3dqdkhTlwL"
      },
      "source": [
        "# **Question 15: DateTime Operations**\n",
        "\n",
        "Create a Pandas DataFrame with a DateTime column. Extract the day, month, and year from the DateTime column.\n"
      ]
    },
    {
      "cell_type": "code",
      "execution_count": 15,
      "metadata": {
        "id": "Y1n2MllUToZs"
      },
      "outputs": [
        {
          "name": "stdout",
          "output_type": "stream",
          "text": [
            "        Date  Day  Month  Year\n",
            "0 2022-01-15   15      1  2022\n",
            "1 2022-02-20   20      2  2022\n",
            "2 2022-03-25   25      3  2022\n"
          ]
        }
      ],
      "source": [
        "import pandas as pd\n",
        "\n",
        "data = {'Date': pd.to_datetime(['2022-01-15', '2022-02-20', '2022-03-25'])}\n",
        "df = pd.DataFrame(data)\n",
        "\n",
        "df['Day'] = df['Date'].dt.day\n",
        "# Complete the same for month and year below\n",
        "df['Month'] = df['Date'].dt.month\n",
        "df['Year'] = df['Date'].dt.year\n",
        "\n",
        "print(df)\n",
        "\n",
        "\n"
      ]
    },
    {
      "cell_type": "markdown",
      "metadata": {
        "id": "_g5qudI0Tqh_"
      },
      "source": [
        "# **Question 16: Data Reshaping**\n",
        "\n",
        "Create a Pandas DataFrame with a multi-index. Reshape the DataFrame using the stack and unstack operations.\n"
      ]
    },
    {
      "cell_type": "code",
      "execution_count": 16,
      "metadata": {
        "id": "LfLQpB-5Tto5"
      },
      "outputs": [
        {
          "name": "stdout",
          "output_type": "stream",
          "text": [
            "Group  Subgroup   \n",
            "X      alpha     A    1\n",
            "                 B    4\n",
            "Y      beta      A    2\n",
            "                 B    5\n",
            "Z      gamma     A    3\n",
            "                 B    6\n",
            "dtype: int64\n",
            "                A  B\n",
            "Group Subgroup      \n",
            "X     alpha     1  4\n",
            "Y     beta      2  5\n",
            "Z     gamma     3  6\n"
          ]
        }
      ],
      "source": [
        "import pandas as pd\n",
        "\n",
        "data = {'A': [1, 2, 3], 'B': [4, 5, 6]}\n",
        "index = pd.MultiIndex.from_tuples([('X', 'alpha'), ('Y', 'beta'), ('Z', 'gamma')], names=['Group', 'Subgroup'])\n",
        "\n",
        "df = pd.DataFrame(data, index=index)\n",
        "stacked_df = df.stack()\n",
        "print(stacked_df)\n",
        "# Write the code for unstaking the 'df' using the stacked_df and not the original df. Print after unstacking.\n",
        "unstacked_df = stacked_df.unstack()\n",
        "print(unstacked_df)\n"
      ]
    },
    {
      "cell_type": "markdown",
      "metadata": {
        "id": "b76HRo0tTwFX"
      },
      "source": [
        "# **Question 17: Matplotlib - Scatter Plot**\n",
        "\n",
        "Create a scatter plot using Matplotlib to visualize the relationship between two variables.\n"
      ]
    },
    {
      "cell_type": "code",
      "execution_count": 17,
      "metadata": {
        "colab": {
          "base_uri": "https://localhost:8080/",
          "height": 472
        },
        "id": "EFraNVzlTyfy",
        "outputId": "df327f3b-f00e-4d08-ab7e-ed8439426ca7"
      },
      "outputs": [
        {
          "data": {
            "image/png": "[encoded data removed]",
            "text/plain": [
              "<Figure size 640x480 with 1 Axes>"
            ]
          },
          "metadata": {},
          "output_type": "display_data"
        }
      ],
      "source": [
        "import matplotlib.pyplot as plt\n",
        "import numpy as np\n",
        "\n",
        "x_values = np.random.rand(20)\n",
        "# Write any equation for y_values of your choice using the 'x_values' below\n",
        "y_values = 10 * x_values + np.random.rand(20) * 0.26\n",
        "\n",
        "plt.scatter(x_values, y_values, color='magenta', marker='o')\n",
        "plt.xlabel('X Variable')\n",
        "plt.ylabel('Y Variable')\n",
        "plt.title('Scatter Plot')\n",
        "plt.show()\n",
        "\n",
        "\n"
      ]
    },
    {
      "cell_type": "markdown",
      "metadata": {
        "id": "G6SGGARtT10d"
      },
      "source": [
        "# **Question 18: Seaborn - Heatmap**\n",
        "\n",
        "Generate a heatmap using Seaborn to visualize the correlation matrix of a given DataFrame.\n"
      ]
    },
    {
      "cell_type": "code",
      "execution_count": 18,
      "metadata": {
        "id": "ZkLH84P9T4QB"
      },
      "outputs": [
        {
          "data": {
            "image/png": "[encoded data removed]",
            "text/plain": [
              "<Figure size 640x480 with 2 Axes>"
            ]
          },
          "metadata": {},
          "output_type": "display_data"
        }
      ],
      "source": [
        "import seaborn as sns\n",
        "import pandas as pd\n",
        "\n",
        "data = {\n",
        "    'Verstappen': [90, 85, 88, 92, 87],\n",
        "    'Hamilton': [80, 82, 79, 81, 83],\n",
        "    'Leclerc': [70, 75, 72, 74, 73],\n",
        "    'Sainz': [65, 68, 66, 67, 69]\n",
        "}\n",
        "\n",
        "df = pd.DataFrame(data)\n",
        "\n",
        "# Assume df is a loaded DataFrame with numerical columns\n",
        "correlation_matrix = df.corr()\n",
        "\n",
        "sns.heatmap(correlation_matrix, annot=True, cmap='coolwarm')\n",
        "plt.title('Correlation Heatmap')\n",
        "plt.show()\n",
        "\n",
        "\n"
      ]
    },
    {
      "cell_type": "markdown",
      "metadata": {
        "id": "AaQiza-TT597"
      },
      "source": [
        "# **Question 19: Scikit-Learn - K-Means Clustering**\n",
        "\n",
        "Use Scikit-Learn to perform k-means clustering on a synthetic dataset and visualize the clusters."
      ]
    },
    {
      "cell_type": "code",
      "execution_count": 19,
      "metadata": {
        "id": "ZzKhix0dT_Lt"
      },
      "outputs": [
        {
          "data": {
            "image/png": "[encoded data removed]",
            "text/plain": [
              "<Figure size 640x480 with 1 Axes>"
            ]
          },
          "metadata": {},
          "output_type": "display_data"
        }
      ],
      "source": [
        "from sklearn.cluster import KMeans\n",
        "import matplotlib.pyplot as plt\n",
        "import numpy as np\n",
        "\n",
        "# Generate synthetic data\n",
        "np.random.seed(42)\n",
        "X = np.concatenate([np.random.normal(loc=i, scale=1, size=(100, 2)) for i in range(3)])\n",
        "\n",
        "# Perform k-means clustering\n",
        "kmeans = KMeans(n_clusters=3)\n",
        "kmeans.fit(X)\n",
        "\n",
        "# Visualize the clusters\n",
        "plt.scatter(X[:, 0], X[:, 1], c=kmeans.labels_, cmap='viridis')\n",
        "plt.scatter(kmeans.cluster_centers_[:, 0], kmeans.cluster_centers_[:, 1], marker='X', s=200, c='red')\n",
        "plt.title('K-Means Clustering')\n",
        "plt.show()\n",
        "\n",
        "\n"
      ]
    },
    {
      "cell_type": "markdown",
      "metadata": {
        "id": "8MPIxExYUCJd"
      },
      "source": [
        "# **Question 20: Array Operation with Conditions**\n",
        "\n",
        "Consider the following NumPy array arr:\n",
        "\n",
        "```\n",
        "arr = np.array([[1, 2, 3, 4],\n",
        "                [5, 6, 7, 8],\n",
        "                [9, 10, 11, 12]])\n",
        "```\n",
        "\n",
        "\n",
        "\n",
        "Write a function `modify_array` that takes this array as input and replaces all odd numbers in the array with their squares and all even numbers with their cubes.\n"
      ]
    },
    {
      "cell_type": "code",
      "execution_count": 20,
      "metadata": {
        "id": "5IjCna7QUWz4"
      },
      "outputs": [
        {
          "name": "stdout",
          "output_type": "stream",
          "text": [
            "Original Array:\n",
            "[[ 1  2  3  4]\n",
            " [ 5  6  7  8]\n",
            " [ 9 10 11 12]]\n",
            "\n",
            "Modified Array:\n",
            "[[   1    8    9   64]\n",
            " [  25  216   49  512]\n",
            " [  81 1000  121 1728]]\n"
          ]
        }
      ],
      "source": [
        "import numpy as np\n",
        "\n",
        "def modify_array(arr):\n",
        "    modified_arr = np.where(arr % 2 == 1, arr**2, arr**3)\n",
        "    return modified_arr\n",
        "\n",
        "# Example Usage\n",
        "original_array = np.array([[1, 2, 3, 4],\n",
        "                           [5, 6, 7, 8],\n",
        "                           [9, 10, 11, 12]])\n",
        "\n",
        "modified_array = modify_array(original_array)\n",
        "print(\"Original Array:\")\n",
        "print(original_array)\n",
        "print(\"\\nModified Array:\")\n",
        "print(modified_array)\n",
        "\n",
        "\n"
      ]
    }
  ],
  "metadata": {
    "colab": {
      "provenance": []
    },
    "kernelspec": {
      "display_name": "Python 3",
      "name": "python3"
    },
    "language_info": {
      "codemirror_mode": {
        "name": "ipython",
        "version": 3
      },
      "file_extension": ".py",
      "mimetype": "text/x-python",
      "name": "python",
      "nbconvert_exporter": "python",
      "pygments_lexer": "ipython3",
      "version": "3.12.10"
    }
  },
  "nbformat": 4,
  "nbformat_minor": 0
}
